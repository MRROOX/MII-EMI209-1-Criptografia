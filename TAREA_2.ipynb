{
  "nbformat": 4,
  "nbformat_minor": 0,
  "metadata": {
    "colab": {
      "name": "TAREA_2",
      "provenance": [],
      "include_colab_link": true
    },
    "kernelspec": {
      "name": "python3",
      "display_name": "Python 3"
    }
  },
  "cells": [
    {
      "cell_type": "markdown",
      "metadata": {
        "id": "view-in-github",
        "colab_type": "text"
      },
      "source": [
        "<a href=\"https://colab.research.google.com/github/MRROOX/MII-EMI209-1-Criptografia/blob/master/TAREA_2.ipynb\" target=\"_parent\"><img src=\"https://colab.research.google.com/assets/colab-badge.svg\" alt=\"Open In Colab\"/></a>"
      ]
    },
    {
      "cell_type": "markdown",
      "metadata": {
        "id": "k75hCcA8O_AG",
        "colab_type": "text"
      },
      "source": [
        "RESPORTE RSA y DIFFIE HELLMAN.\n",
        "\n",
        "\n",
        "# RSA\n",
        "https://www.geeksforgeeks.org/rsa-algorithm-cryptography/\n",
        "\n",
        "El cifrado es uno de los principales medios para garantizar la seguridad de la información confidencial. No sólo proporciona los mecanismos de confidencialidad de la información, sino que también funciona con firma digital, autenticación, custodia de secretos, seguridad del sistema, etc. Por lo tanto, la adopción de técnicas de encriptación tiene por objeto garantizar la confidencialidad, integridad y seguridad de la información, así como evitar que ésta sea manipulada, falsificada o falsificada[1].\n",
        "\n",
        "\n",
        "RSA fue propuesto por primera vez en 1978 por RL Rivest et al. en papel \"A method for obtaining digital signatures and public-key cryptosystems\". RSA es un criptosistema asimétrico (clave pública) basado en la teoría de números, que es un sistema de cifrado por bloques. Su seguridad se basa en la dificultad de la factorización primaria de grandes números, que es un problema matemático bien conocido que no tiene solución efectiva[2]. \n",
        "\n",
        "El criptosistema RSA utiliza el modo n, el más pequeño no negativo, para completar las líneas de operación restantes, donde n es el producto de dos primos diferentes p y q [3]. El algoritmo RSA se describe de la siguiente manera. \n",
        "\n",
        "En primer lugar, el procedimiento de generación de claves es el siguiente,\n",
        "\n",
        "1) Genera aleatoriamente dos primos P y Q de longitud K / 2 bit ;\n",
        "\n",
        "2) Calcular la clave pública publicKey=P*Q; (clave pública la longitud es k-bit )\n",
        "\n",
        "3)Generar una clave de encriptación aleatoria E, 2<=claveE <= claveD(n)-1, donde GCD(claveE, D(n))=1; \n",
        "\n",
        "Estas son las condiciones necesarias y suficientes para Solvencia de la llave de descifrado keyE * keyD mod <D(n)=1, D(n) se conoce como la función Euler de n, el valor es D(n)=(P1)*(Q-1)\n",
        "\n",
        "4) Calcular la clave de descifrado, keyD=keyE-l mod (n) ,la teclaE-l es inversa para la tecla de descifrado keyD. El la fórmula de la ecuación original es keyE * keyD mod D(n)=1\n",
        "\n",
        "Ahora, la clave pública, la clave de encriptación y la clave de desencriptación son todos creados.\n",
        "\n",
        "A continuación, el proceso de encriptación del texto sin formato y la desencriptación del texto cifrado es la siguiente:\n",
        "\n",
        "1) Encriptación: C = MkeyE mod publicKey; donde M es texto plano, C es texto cifrado.\n",
        "\n",
        "2) Descifrado: M = CkeyD mod publicKey; en la cual M texto plano, C es texto cifrado. \n",
        "\n",
        "### Implementación en codigo Python.\n",
        "Ver sección de codigo RSA.\n",
        "\n",
        "## Referencia\n",
        "\n",
        "[1]. W. Diffie and M. E. Hellman, New directions in cryptography, IEEE\n",
        "Trans. Inform. Theory, Nov. 1976,22: 644-654. \n",
        "\n",
        "[2]. R.L. Rivest, A. Shamir, and L. Adleman, A method for obtaining digital\n",
        "signatures and public-key cryptosystems, Commun. ACM, Feb. 1978,\n",
        "21(2): 120-126. \n",
        "\n",
        "[3]. J.-H. Hong, RSA Public Key Crypto-Processor Core Design and\n",
        "Hierarchical System Test Using IEEE 1149 Family, Ph.D. dissertation,\n",
        "Dept. Elect. Eng., National Tsing Hua Univ., Hsinchu, Taiwan R.o.c.,\n",
        "2000: 322-334 \n",
        "\n"
      ]
    },
    {
      "cell_type": "code",
      "metadata": {
        "id": "-DyAlq6xLxTZ",
        "colab_type": "code",
        "outputId": "fad221f6-30db-4df0-df3d-86434fa37e9a",
        "colab": {
          "base_uri": "https://localhost:8080/",
          "height": 89
        }
      },
      "source": [
        "#Codigo RSA \n",
        "from decimal import Decimal \n",
        "  \n",
        "def gcd(a,b): \n",
        "    if b==0: \n",
        "        return a \n",
        "    else: \n",
        "        return gcd(b,a%b) \n",
        "p = int(input('Enter the value of p = ')) \n",
        "q = int(input('Enter the value of q = ')) \n",
        "no = int(input('Enter the value of text = ')) \n",
        "n = p*q \n",
        "t = (p-1)*(q-1) \n",
        "  \n",
        "for e in range(2,t): \n",
        "    if gcd(e,t)== 1: \n",
        "        break\n",
        "  \n",
        "  \n",
        "for i in range(1,10): \n",
        "    x = 1 + i*t \n",
        "    if x % e == 0: \n",
        "        d = int(x/e) \n",
        "        break\n",
        "ctt = Decimal(0) \n",
        "ctt =pow(no,e) \n",
        "ct = ctt % n \n",
        "  \n",
        "dtt = Decimal(0) \n",
        "dtt = pow(ct,d) \n",
        "dt = dtt % n \n",
        "  \n",
        "print('n = '+str(n)+' e = '+str(e)+' t = '+str(t)+' d = '+str(d)+' cipher text = '+str(ct)+' decrypted text = '+str(dt))\n",
        "\n",
        "\n"
      ],
      "execution_count": 0,
      "outputs": [
        {
          "output_type": "stream",
          "text": [
            "Enter the value of p = 7\n",
            "Enter the value of q = 11\n",
            "Enter the value of text = 13\n",
            "n = 77 e = 7 t = 60 d = 43 cipher text = 62 decrypted text = 13\n"
          ],
          "name": "stdout"
        }
      ]
    },
    {
      "cell_type": "markdown",
      "metadata": {
        "id": "RX6dXcSJNrrx",
        "colab_type": "text"
      },
      "source": [
        "# DIFFIE y HELLMAN\n",
        "\n",
        "En noviembre de 1976 dos investigadores de la Universidad de Standford, Whitfield Diffie y Martin Hellman, proponen un algoritmo para intercambiar na clave secreta de manera computacionalmente segura, usando para ello funciones matematicas de un solo sentido o unidireccionales [1]. Su seguridad radica en que para los valores estandar de miles de bits que se usan en la el problema se vuelve intratable, tanto en recursos de calculo y en tiempo.\n",
        "\n",
        "Las funciones matemáticas de un solo sentido, en inglés one way functions, son funciones que en un sentido tienen una solución fácil o bien requieren de un tiempo de cómputo pequeño pero que, en cambio, su cálculo en sentido inverso se vuelve intratable, bien por el exceso de recursos que deben utilizarse o bien por el inmenso tiempo de cómputo necesario para su resolución. \n",
        "\n",
        "Diffie y Hellman usaron en su propuesta la función de un solo sentido conocida como el Problema del Logaritmo Discreto, cuyo enunciado es el siguiente. Encontrar el resultado de la expresión α^β mod n = x conocidos α, β y n, es sencilla y rápida, incluso para números grandes. Sin embargo, conociendo x, α y n, encontrar ahora el valor del exponente β = logα x mod n, se convierte en un problema de muy difícil solución para números grandes. Si bien la operación de calcular el logaritmo de x en base α es muy simple, el hecho de aplicar después la reducción módulo n al resultado, aporta una gran complejidad al problema.\n",
        "\n",
        "## Ejemplo de Protocolo de Intercambio de clave Diffie y Hellaman\n",
        "\n",
        "Alicia y Bob, que se encuentran distantes, eligen un primo p y un número α dentro de ese primo, conocido como generador del primo. Ambos valores son públicos. Acto seguido, cada uno elige un número secreto que no conoce el otro. Así, Alicia elige el número a y Bernardo elige el número b. \n",
        "\n",
        "A continuación realiza el siguiente ejemplo:\n",
        "\n",
        "1. Alicia usa su clave secreta a, calcula αa mod p = x1 y se lo envía a Bob.\n",
        "2. Bob usa su clave secreta b, calcula αb mod p = x2 y se lo envía a Alicia.\n",
        "3. Bob recibe x_1 = α^a mod p y con su clave secreta b calcula x_1^b mod p = (α^a) b mod p.\n",
        "4. Alicia recibe x2 = α^b mod p y con su clave secreta a calcula x_2^a mod p = (α^b) a mod p.\n",
        "5. La clave intercambiada entre Alicia y Bob será α^ab mod p = α^ba mod p = K.\n",
        "\n",
        "Al finalizar del ejemplo, ambos comparten un mismo valor K. Cualquier intruso que conozca los datos públicos p y α, así como los valores intercambiados x1 y x2, para poder encontrar los valores secretos de a de Alicia y b Bob, y por tanto poder calcular α^ab mod p, se enfrentará al problema del logaritmo discreto, que para valores de p cercanos a los mil bits se vuelve intratable.\n",
        "\n",
        "## Implementación en Codigo Python\n",
        "\n",
        "Ver sección de codigo Diffie y Hellman\n",
        "\n",
        "## Referencia\n",
        "\n",
        "[1] Diffie, Whitfield, and Martin Hellman. \"New directions in cryptography.\" IEEE transactions on Information Theory 22.6 (1976): 644-654."
      ]
    },
    {
      "cell_type": "code",
      "metadata": {
        "id": "XuFkMl2hNE9p",
        "colab_type": "code",
        "outputId": "ed71f507-6c31-41b4-db3a-693029ca780d",
        "colab": {
          "base_uri": "https://localhost:8080/",
          "height": 233
        }
      },
      "source": [
        "#Codigo DIFFIE y HELLMAN\n",
        " \n",
        "# Variables Used\n",
        "sharedPrime = 23    # p\n",
        "sharedBase = 5      # g\n",
        " \n",
        "aliceSecret = 6     # a\n",
        "bobSecret = 15      # b\n",
        " \n",
        "# Begin\n",
        "print( \"Publicly Shared Variables:\")\n",
        "print( \"    Publicly Shared Prime: \" , sharedPrime )\n",
        "print( \"    Publicly Shared Base:  \" , sharedBase )\n",
        " \n",
        "# Alice Sends Bob A = g^a mod p\n",
        "A = (sharedBase**aliceSecret) % sharedPrime\n",
        "print( \"\\n  Alice Sends Over Public Chanel: \" , A )\n",
        " \n",
        "# Bob Sends Alice B = g^b mod p\n",
        "B = (sharedBase ** bobSecret) % sharedPrime\n",
        "print( \"  Bob Sends Over Public Chanel: \", B )\n",
        " \n",
        "print( \"\\n------------\\n\" )\n",
        "print( \"Privately Calculated Shared Secret:\" )\n",
        "# Alice Computes Shared Secret: s = B^a mod p\n",
        "aliceSharedSecret = (B ** aliceSecret) % sharedPrime\n",
        "print( \"Alice Shared Secret: \", aliceSharedSecret )\n",
        " \n",
        "# Bob Computes Shared Secret: s = A^b mod p\n",
        "bobSharedSecret = (A**bobSecret) % sharedPrime\n",
        "print( \"Bob Shared Secret: \", bobSharedSecret )\n",
        "\n"
      ],
      "execution_count": 0,
      "outputs": [
        {
          "output_type": "stream",
          "text": [
            "Publicly Shared Variables:\n",
            "    Publicly Shared Prime:  23\n",
            "    Publicly Shared Base:   5\n",
            "\n",
            "  Alice Sends Over Public Chanel:  8\n",
            "  Bob Sends Over Public Chanel:  19\n",
            "\n",
            "------------\n",
            "\n",
            "Privately Calculated Shared Secret:\n",
            "Alice Shared Secret:  2\n",
            "Bob Shared Secret:  2\n"
          ],
          "name": "stdout"
        }
      ]
    }
  ]
}